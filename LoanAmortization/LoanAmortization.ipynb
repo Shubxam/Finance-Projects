{
 "cells": [
  {
   "cell_type": "markdown",
   "id": "126945fc",
   "metadata": {},
   "source": [
    "# Loan Amortization\n",
    "- An amortized loan is a type of loan that requires the borrower to make scheduled, periodic payments that are applied to both the principal and interest.An amortized loan is a type of loan that requires the borrower to make scheduled, periodic payments that are applied to both the principal and interest.\n",
    "- An amortized loan payment first pays off the interest expense for the period; any remaining amount is put towards reducing the principal amount.An amortized loan payment first pays off the interest expense for the period; any remaining amount is put towards reducing the principal amount.\n",
    "- Since the monthly payment is fixed, As time goes by, and the principle amount decreases, so does the interest paid on principle and thus share of principal in monthly payment increases.\n",
    "\n",
    "## Fixed Monthly Payment Calculation\n",
    "we know the formula for monthly payments of fixed payments personal loan is:\n",
    "$$\\displaystyle{P = \\frac{r(PV)}{1-(1+r)^{(-n)}}}$$\n",
    "where,\n",
    "- P = monthly payment\n",
    "- r = rate of interest (monthly)\n",
    "- PV = Present Value (loan amount)\n",
    "- n = no of installments"
   ]
  },
  {
   "cell_type": "code",
   "execution_count": null,
   "id": "a53451d4",
   "metadata": {},
   "outputs": [],
   "source": [
    "# Importing Libraries\n",
    "import numpy as np\n",
    "import numpy_financial as np_f\n",
    "import pandas as pd"
   ]
  },
  {
   "cell_type": "code",
   "execution_count": null,
   "id": "9e05d1de",
   "metadata": {},
   "outputs": [],
   "source": [
    "# Setting Initial Values\n",
    "loan = 3000\n",
    "rate = 0.0575/12 #monthly rate\n",
    "term = 14"
   ]
  },
  {
   "cell_type": "code",
   "execution_count": null,
   "id": "a8d6cfcb-fa8b-44b8-97a4-ab4c94261b63",
   "metadata": {},
   "outputs": [],
   "source": [
    "#Calaulating Monthly Installment\n",
    "payment = rate*loan/(1-(1+rate)**(-term))\n",
    "round(payment, 2)\n",
    "# implementation using numpy\n",
    "payment = np.round(-np_f.pmt(rate,term,loan), 2)\n",
    "round(payment,2)"
   ]
  },
  {
   "cell_type": "markdown",
   "id": "acd0b386-8f6a-4d9a-b55e-cc690a0aeaed",
   "metadata": {},
   "source": [
    "## Basic Method"
   ]
  },
  {
   "cell_type": "code",
   "execution_count": null,
   "id": "906e8c25-0628-43b6-ad32-2b93cd9b2c26",
   "metadata": {},
   "outputs": [],
   "source": [
    "# Creating a dataframe with initial values\n",
    "df = pd.DataFrame({\n",
    "    'month':[0],\n",
    "    'payment':[np.NaN],\n",
    "    'interest':[np.NaN],\n",
    "    'principal':[np.NaN],\n",
    "    'balance':[3000]\n",
    "    })\n",
    "\n",
    "# Creating Amortization Table\n",
    "balance = loan\n",
    "for i in range(1,term+1):\n",
    "    interest = round(balance*rate, 2)\n",
    "    principal = payment - interest\n",
    "    balance = balance - principal\n",
    "    df = df.append(\n",
    "        pd.DataFrame({\n",
    "            'month': [i],\n",
    "            'balance': [balance],\n",
    "            'interest': [interest],\n",
    "            'payment': [payment],\n",
    "            'principal': [principal]\n",
    "        })\n",
    "    )"
   ]
  },
  {
   "cell_type": "code",
   "execution_count": null,
   "id": "2324c219-1f45-42e4-bd58-4d64651fff40",
   "metadata": {},
   "outputs": [],
   "source": [
    "print(df)"
   ]
  },
  {
   "cell_type": "markdown",
   "id": "4eb0d8ae-8e32-4b99-b2cb-b861f2b310fa",
   "metadata": {},
   "source": [
    "## Optimized Method"
   ]
  },
  {
   "cell_type": "code",
   "execution_count": null,
   "id": "74fcc707-add9-4a58-8cc3-222b59fd1fa3",
   "metadata": {},
   "outputs": [],
   "source": [
    "# Creating initial DataFrame\n",
    "df = pd.DataFrame(\n",
    "    index=range(0,term+1),\n",
    "    columns=['month', 'payment', 'interest', 'principal', 'balance']\n",
    ")\n",
    "df.iloc[0]['month'] = 0\n",
    "df.iloc[1:term+1,1] = payment\n",
    "df.iloc[0]['balance'] = loan\n"
   ]
  },
  {
   "cell_type": "code",
   "execution_count": null,
   "id": "af5493e3-6d81-44c2-a723-25067d54c2fc",
   "metadata": {},
   "outputs": [],
   "source": [
    "balance = loan\n",
    "for i in range(1,term+1):\n",
    "    interest = balance*rate\n",
    "    principal = payment - interest\n",
    "    balance = balance - principal\n",
    "    df.iloc[i,0] = i\n",
    "    df.iloc[i,2] = interest\n",
    "    df.iloc[i,3] = principal\n",
    "    df.iloc[i,4] = balance"
   ]
  },
  {
   "cell_type": "markdown",
   "id": "cf46d205-837d-40d8-8b9f-c51e3bec3058",
   "metadata": {},
   "source": [
    "## Modularizing the code"
   ]
  },
  {
   "cell_type": "code",
   "execution_count": null,
   "id": "ded060ef-ec46-4af8-871c-dc42057d18bb",
   "metadata": {},
   "outputs": [],
   "source": [
    "def am(rate, loan, term):\n",
    "    rate = rate/12\n",
    "    payment = round(rate*loan/(1-(1+rate)**(-term)),2)\n",
    "    \n",
    "    df = pd.DataFrame(\n",
    "        index=range(0,term+1),\n",
    "        columns=['month', 'payment', 'interest', 'principal', 'balance']\n",
    "    )\n",
    "    \n",
    "    balance = loan\n",
    "\n",
    "    df.iloc[0,0] = 0\n",
    "    df.iloc[0,4] = balance\n",
    "    df.iloc[1:,1] = payment\n",
    "\n",
    "    for i in range(1,term+1):\n",
    "        interest = round(balance * rate,2)\n",
    "        principal = payment - interest\n",
    "        balance = balance - principal\n",
    "        df.iloc[i,0] = i\n",
    "        df.iloc[i,2] = interest\n",
    "        df.iloc[i,3] = principal\n",
    "        df.iloc[i,4] = balance\n",
    "    \n",
    "    return df"
   ]
  },
  {
   "cell_type": "code",
   "execution_count": null,
   "id": "a4d7477a-d568-4277-b0b0-52d1e548cfa0",
   "metadata": {},
   "outputs": [],
   "source": [
    "bank_1 = am(rate=0.0575, loan=3000, term=14)\n",
    "bank_2 = am(rate=0.0399, loan=3000, term=20)\n",
    "bank_2 = am(rate=0.0399, loan=3000, term=20)"
   ]
  },
  {
   "cell_type": "code",
   "execution_count": null,
   "id": "13032c10-f527-497d-810b-d37285666e15",
   "metadata": {},
   "outputs": [],
   "source": [
    "# Calculate the interest paid for each bank \n",
    "print(sum(bank_1.iloc[1:,2]))\n",
    "print(sum(bank_2.iloc[1:,2]))\n",
    "print(sum(bank_3.iloc[1:,2]))"
   ]
  },
  {
   "cell_type": "markdown",
   "id": "ceb9e49a-7361-454a-a1bb-31d2bbaf7ac7",
   "metadata": {},
   "source": [
    "## References\n",
    "- [Personal Finance with Python, Max Humber: Ch04-Amortize](https://www.amazon.in/Personal-Finance-Python-Requests-Recurrent/dp/148423801X)\n",
    "- [Investopedia: Amortized Loans](https://www.investopedia.com/terms/a/amortized_loan.asp)\n",
    "- [NumPy_Financial: pmt()](https://numpy.org/numpy-financial/latest/pmt.html#numpy_financial.pmt)"
   ]
  }
 ],
 "metadata": {
  "kernelspec": {
   "display_name": "Python 3 (ipykernel)",
   "language": "python",
   "name": "python3"
  },
  "language_info": {
   "codemirror_mode": {
    "name": "ipython",
    "version": 3
   },
   "file_extension": ".py",
   "mimetype": "text/x-python",
   "name": "python",
   "nbconvert_exporter": "python",
   "pygments_lexer": "ipython3",
   "version": "3.10.8"
  }
 },
 "nbformat": 4,
 "nbformat_minor": 5
}
