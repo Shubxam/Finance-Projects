{
 "cells": [
  {
   "cell_type": "code",
   "execution_count": 1,
   "metadata": {},
   "outputs": [],
   "source": [
    "import pandas as pd\n",
    "import numpy as np\n",
    "import matplotlib.pyplot as plt\n",
    "import yfinance as yf\n",
    "import itertools"
   ]
  },
  {
   "cell_type": "code",
   "execution_count": 2,
   "metadata": {},
   "outputs": [
    {
     "name": "stdout",
     "output_type": "stream",
     "text": [
      "[*********************100%***********************]  1 of 1 completed\n"
     ]
    }
   ],
   "source": [
    "data = yf.download('SBIN.NS', start='2019-01-01', end='2023-01-01')"
   ]
  },
  {
   "cell_type": "code",
   "execution_count": 3,
   "metadata": {},
   "outputs": [],
   "source": [
    "data['200MA'] = data['Adj Close'].rolling(200).mean()"
   ]
  },
  {
   "cell_type": "code",
   "execution_count": 9,
   "metadata": {},
   "outputs": [],
   "source": [
    "data['distance'] = data['Adj Close'] - data['200MA']"
   ]
  },
  {
   "cell_type": "code",
   "execution_count": 5,
   "metadata": {},
   "outputs": [
    {
     "data": {
      "text/plain": [
       "'min_close_50_day = data.iloc[-50:-1,4].min()\\nmax_close_50_day = data.iloc[-50:-1,4].max()'"
      ]
     },
     "execution_count": 5,
     "metadata": {},
     "output_type": "execute_result"
    }
   ],
   "source": [
    "'''min_close_50_day = data.iloc[-50:-1,4].min()\n",
    "max_close_50_day = data.iloc[-50:-1,4].max()'''"
   ]
  },
  {
   "cell_type": "code",
   "execution_count": 11,
   "metadata": {},
   "outputs": [
    {
     "data": {
      "text/plain": [
       "990"
      ]
     },
     "execution_count": 11,
     "metadata": {},
     "output_type": "execute_result"
    }
   ],
   "source": [
    "len(data)"
   ]
  },
  {
   "cell_type": "code",
   "execution_count": 6,
   "metadata": {},
   "outputs": [],
   "source": [
    "#data['norms'] = np.zeros(len(data))"
   ]
  },
  {
   "cell_type": "code",
   "execution_count": 35,
   "metadata": {},
   "outputs": [],
   "source": [
    "norm = []"
   ]
  },
  {
   "cell_type": "code",
   "execution_count": 36,
   "metadata": {},
   "outputs": [],
   "source": [
    "for i in range(len(data)):\n",
    "    norm.append( (data.iloc[i,4] - data.iloc[i-50+1:i+1,4].min())/(data.iloc[i-50+1:i+1,4].max() - data.iloc[i-50+1:i+1,4].min()) )"
   ]
  },
  {
   "cell_type": "code",
   "execution_count": 37,
   "metadata": {},
   "outputs": [],
   "source": [
    "data.norms = norm"
   ]
  },
  {
   "cell_type": "code",
   "execution_count": 39,
   "metadata": {},
   "outputs": [],
   "source": [
    "data.norms = data.norms * 100"
   ]
  },
  {
   "cell_type": "code",
   "execution_count": 28,
   "metadata": {},
   "outputs": [
    {
     "data": {
      "text/plain": [
       "'for i in range(len(data)):\\n    print(data.iloc[i,4], data.iloc[i-50+1:i+1,4].min(), data.iloc[i-50+1:i+1,4].max())\\n    print( (data.iloc[i,4] - data.iloc[i-50+1:i+1,4].min())/(data.iloc[i-50+1:i+1,4].max() - data.iloc[i-50+1:i+1,4].min()) )\\n    if i ==60:\\n        break'"
      ]
     },
     "execution_count": 28,
     "metadata": {},
     "output_type": "execute_result"
    }
   ],
   "source": [
    "'''for i in range(len(data)):\n",
    "    print(data.iloc[i,4], data.iloc[i-50+1:i+1,4].min(), data.iloc[i-50+1:i+1,4].max())\n",
    "    print( (data.iloc[i,4] - data.iloc[i-50+1:i+1,4].min())/(data.iloc[i-50+1:i+1,4].max() - data.iloc[i-50+1:i+1,4].min()) )\n",
    "    if i ==60:\n",
    "        break'''"
   ]
  },
  {
   "cell_type": "code",
   "execution_count": null,
   "metadata": {},
   "outputs": [],
   "source": [
    "(data['Adj Close'] - )/(max_close_50_day - min_close_50_day)"
   ]
  },
  {
   "cell_type": "code",
   "execution_count": 42,
   "metadata": {},
   "outputs": [],
   "source": [
    "data = data.loc[:,['Adj Close', '200MA', 'distance', 'norms']]"
   ]
  },
  {
   "cell_type": "code",
   "execution_count": 43,
   "metadata": {},
   "outputs": [
    {
     "data": {
      "text/html": [
       "<div>\n",
       "<style scoped>\n",
       "    .dataframe tbody tr th:only-of-type {\n",
       "        vertical-align: middle;\n",
       "    }\n",
       "\n",
       "    .dataframe tbody tr th {\n",
       "        vertical-align: top;\n",
       "    }\n",
       "\n",
       "    .dataframe thead th {\n",
       "        text-align: right;\n",
       "    }\n",
       "</style>\n",
       "<table border=\"1\" class=\"dataframe\">\n",
       "  <thead>\n",
       "    <tr style=\"text-align: right;\">\n",
       "      <th></th>\n",
       "      <th>Adj Close</th>\n",
       "      <th>200MA</th>\n",
       "      <th>distance</th>\n",
       "      <th>norms</th>\n",
       "    </tr>\n",
       "    <tr>\n",
       "      <th>Date</th>\n",
       "      <th></th>\n",
       "      <th></th>\n",
       "      <th></th>\n",
       "      <th></th>\n",
       "    </tr>\n",
       "  </thead>\n",
       "  <tbody>\n",
       "    <tr>\n",
       "      <th>2019-01-01</th>\n",
       "      <td>292.297607</td>\n",
       "      <td>NaN</td>\n",
       "      <td>NaN</td>\n",
       "      <td>NaN</td>\n",
       "    </tr>\n",
       "    <tr>\n",
       "      <th>2019-01-02</th>\n",
       "      <td>286.736511</td>\n",
       "      <td>NaN</td>\n",
       "      <td>NaN</td>\n",
       "      <td>NaN</td>\n",
       "    </tr>\n",
       "    <tr>\n",
       "      <th>2019-01-03</th>\n",
       "      <td>284.004791</td>\n",
       "      <td>NaN</td>\n",
       "      <td>NaN</td>\n",
       "      <td>NaN</td>\n",
       "    </tr>\n",
       "    <tr>\n",
       "      <th>2019-01-04</th>\n",
       "      <td>290.395111</td>\n",
       "      <td>NaN</td>\n",
       "      <td>NaN</td>\n",
       "      <td>NaN</td>\n",
       "    </tr>\n",
       "    <tr>\n",
       "      <th>2019-01-07</th>\n",
       "      <td>289.078033</td>\n",
       "      <td>NaN</td>\n",
       "      <td>NaN</td>\n",
       "      <td>NaN</td>\n",
       "    </tr>\n",
       "    <tr>\n",
       "      <th>...</th>\n",
       "      <td>...</td>\n",
       "      <td>...</td>\n",
       "      <td>...</td>\n",
       "      <td>...</td>\n",
       "    </tr>\n",
       "    <tr>\n",
       "      <th>2022-12-26</th>\n",
       "      <td>597.099976</td>\n",
       "      <td>521.707131</td>\n",
       "      <td>75.392845</td>\n",
       "      <td>71.108822</td>\n",
       "    </tr>\n",
       "    <tr>\n",
       "      <th>2022-12-27</th>\n",
       "      <td>601.900024</td>\n",
       "      <td>522.548960</td>\n",
       "      <td>79.351065</td>\n",
       "      <td>71.166790</td>\n",
       "    </tr>\n",
       "    <tr>\n",
       "      <th>2022-12-28</th>\n",
       "      <td>601.049988</td>\n",
       "      <td>523.330415</td>\n",
       "      <td>77.719573</td>\n",
       "      <td>66.088737</td>\n",
       "    </tr>\n",
       "    <tr>\n",
       "      <th>2022-12-29</th>\n",
       "      <td>611.799988</td>\n",
       "      <td>524.081925</td>\n",
       "      <td>87.718062</td>\n",
       "      <td>80.998590</td>\n",
       "    </tr>\n",
       "    <tr>\n",
       "      <th>2022-12-30</th>\n",
       "      <td>613.700012</td>\n",
       "      <td>524.834813</td>\n",
       "      <td>88.865199</td>\n",
       "      <td>83.166916</td>\n",
       "    </tr>\n",
       "  </tbody>\n",
       "</table>\n",
       "<p>990 rows × 4 columns</p>\n",
       "</div>"
      ],
      "text/plain": [
       "             Adj Close       200MA   distance      norms\n",
       "Date                                                    \n",
       "2019-01-01  292.297607         NaN        NaN        NaN\n",
       "2019-01-02  286.736511         NaN        NaN        NaN\n",
       "2019-01-03  284.004791         NaN        NaN        NaN\n",
       "2019-01-04  290.395111         NaN        NaN        NaN\n",
       "2019-01-07  289.078033         NaN        NaN        NaN\n",
       "...                ...         ...        ...        ...\n",
       "2022-12-26  597.099976  521.707131  75.392845  71.108822\n",
       "2022-12-27  601.900024  522.548960  79.351065  71.166790\n",
       "2022-12-28  601.049988  523.330415  77.719573  66.088737\n",
       "2022-12-29  611.799988  524.081925  87.718062  80.998590\n",
       "2022-12-30  613.700012  524.834813  88.865199  83.166916\n",
       "\n",
       "[990 rows x 4 columns]"
      ]
     },
     "execution_count": 43,
     "metadata": {},
     "output_type": "execute_result"
    }
   ],
   "source": [
    "data"
   ]
  },
  {
   "cell_type": "code",
   "execution_count": 49,
   "metadata": {},
   "outputs": [
    {
     "data": {
      "text/html": [
       "<div>\n",
       "<style scoped>\n",
       "    .dataframe tbody tr th:only-of-type {\n",
       "        vertical-align: middle;\n",
       "    }\n",
       "\n",
       "    .dataframe tbody tr th {\n",
       "        vertical-align: top;\n",
       "    }\n",
       "\n",
       "    .dataframe thead th {\n",
       "        text-align: right;\n",
       "    }\n",
       "</style>\n",
       "<table border=\"1\" class=\"dataframe\">\n",
       "  <thead>\n",
       "    <tr style=\"text-align: right;\">\n",
       "      <th></th>\n",
       "      <th>Adj Close</th>\n",
       "      <th>200MA</th>\n",
       "      <th>distance</th>\n",
       "      <th>norms</th>\n",
       "    </tr>\n",
       "    <tr>\n",
       "      <th>Date</th>\n",
       "      <th></th>\n",
       "      <th></th>\n",
       "      <th></th>\n",
       "      <th></th>\n",
       "    </tr>\n",
       "  </thead>\n",
       "  <tbody>\n",
       "    <tr>\n",
       "      <th>2019-01-01</th>\n",
       "      <td>NaN</td>\n",
       "      <td>NaN</td>\n",
       "      <td>NaN</td>\n",
       "      <td>NaN</td>\n",
       "    </tr>\n",
       "    <tr>\n",
       "      <th>2019-01-02</th>\n",
       "      <td>NaN</td>\n",
       "      <td>NaN</td>\n",
       "      <td>NaN</td>\n",
       "      <td>NaN</td>\n",
       "    </tr>\n",
       "    <tr>\n",
       "      <th>2019-01-03</th>\n",
       "      <td>NaN</td>\n",
       "      <td>NaN</td>\n",
       "      <td>NaN</td>\n",
       "      <td>NaN</td>\n",
       "    </tr>\n",
       "    <tr>\n",
       "      <th>2019-01-04</th>\n",
       "      <td>NaN</td>\n",
       "      <td>NaN</td>\n",
       "      <td>NaN</td>\n",
       "      <td>NaN</td>\n",
       "    </tr>\n",
       "    <tr>\n",
       "      <th>2019-01-07</th>\n",
       "      <td>292.297607</td>\n",
       "      <td>NaN</td>\n",
       "      <td>NaN</td>\n",
       "      <td>NaN</td>\n",
       "    </tr>\n",
       "    <tr>\n",
       "      <th>...</th>\n",
       "      <td>...</td>\n",
       "      <td>...</td>\n",
       "      <td>...</td>\n",
       "      <td>...</td>\n",
       "    </tr>\n",
       "    <tr>\n",
       "      <th>2022-12-26</th>\n",
       "      <td>604.450012</td>\n",
       "      <td>518.995461</td>\n",
       "      <td>85.454551</td>\n",
       "      <td>79.769351</td>\n",
       "    </tr>\n",
       "    <tr>\n",
       "      <th>2022-12-27</th>\n",
       "      <td>593.400024</td>\n",
       "      <td>519.627648</td>\n",
       "      <td>73.772376</td>\n",
       "      <td>69.149467</td>\n",
       "    </tr>\n",
       "    <tr>\n",
       "      <th>2022-12-28</th>\n",
       "      <td>593.400024</td>\n",
       "      <td>520.293560</td>\n",
       "      <td>73.106465</td>\n",
       "      <td>69.149467</td>\n",
       "    </tr>\n",
       "    <tr>\n",
       "      <th>2022-12-29</th>\n",
       "      <td>574.000000</td>\n",
       "      <td>520.889302</td>\n",
       "      <td>53.110698</td>\n",
       "      <td>50.504559</td>\n",
       "    </tr>\n",
       "    <tr>\n",
       "      <th>2022-12-30</th>\n",
       "      <td>597.099976</td>\n",
       "      <td>521.707131</td>\n",
       "      <td>75.392845</td>\n",
       "      <td>71.108822</td>\n",
       "    </tr>\n",
       "  </tbody>\n",
       "</table>\n",
       "<p>990 rows × 4 columns</p>\n",
       "</div>"
      ],
      "text/plain": [
       "             Adj Close       200MA   distance      norms\n",
       "Date                                                    \n",
       "2019-01-01         NaN         NaN        NaN        NaN\n",
       "2019-01-02         NaN         NaN        NaN        NaN\n",
       "2019-01-03         NaN         NaN        NaN        NaN\n",
       "2019-01-04         NaN         NaN        NaN        NaN\n",
       "2019-01-07  292.297607         NaN        NaN        NaN\n",
       "...                ...         ...        ...        ...\n",
       "2022-12-26  604.450012  518.995461  85.454551  79.769351\n",
       "2022-12-27  593.400024  519.627648  73.772376  69.149467\n",
       "2022-12-28  593.400024  520.293560  73.106465  69.149467\n",
       "2022-12-29  574.000000  520.889302  53.110698  50.504559\n",
       "2022-12-30  597.099976  521.707131  75.392845  71.108822\n",
       "\n",
       "[990 rows x 4 columns]"
      ]
     },
     "execution_count": 49,
     "metadata": {},
     "output_type": "execute_result"
    }
   ],
   "source": [
    "data.shift(periods=4)"
   ]
  },
  {
   "cell_type": "code",
   "execution_count": 44,
   "metadata": {},
   "outputs": [
    {
     "name": "stderr",
     "output_type": "stream",
     "text": [
      "C:\\Users\\singh\\AppData\\Local\\Temp\\ipykernel_48480\\2198688590.py:1: UserWarning: Pandas doesn't allow columns to be created via a new attribute name - see https://pandas.pydata.org/pandas-docs/stable/indexing.html#attribute-access\n",
      "  data.buy_signal = np.zeros(len(data))\n"
     ]
    }
   ],
   "source": [
    "data['buy_signal'] = 1 if data.norms < 100 and data.shift(periods=1).norms "
   ]
  },
  {
   "cell_type": "code",
   "execution_count": 45,
   "metadata": {},
   "outputs": [
    {
     "data": {
      "text/html": [
       "<div>\n",
       "<style scoped>\n",
       "    .dataframe tbody tr th:only-of-type {\n",
       "        vertical-align: middle;\n",
       "    }\n",
       "\n",
       "    .dataframe tbody tr th {\n",
       "        vertical-align: top;\n",
       "    }\n",
       "\n",
       "    .dataframe thead th {\n",
       "        text-align: right;\n",
       "    }\n",
       "</style>\n",
       "<table border=\"1\" class=\"dataframe\">\n",
       "  <thead>\n",
       "    <tr style=\"text-align: right;\">\n",
       "      <th></th>\n",
       "      <th>Adj Close</th>\n",
       "      <th>200MA</th>\n",
       "      <th>distance</th>\n",
       "      <th>norms</th>\n",
       "    </tr>\n",
       "    <tr>\n",
       "      <th>Date</th>\n",
       "      <th></th>\n",
       "      <th></th>\n",
       "      <th></th>\n",
       "      <th></th>\n",
       "    </tr>\n",
       "  </thead>\n",
       "  <tbody>\n",
       "    <tr>\n",
       "      <th>2019-01-01</th>\n",
       "      <td>292.297607</td>\n",
       "      <td>NaN</td>\n",
       "      <td>NaN</td>\n",
       "      <td>NaN</td>\n",
       "    </tr>\n",
       "    <tr>\n",
       "      <th>2019-01-02</th>\n",
       "      <td>286.736511</td>\n",
       "      <td>NaN</td>\n",
       "      <td>NaN</td>\n",
       "      <td>NaN</td>\n",
       "    </tr>\n",
       "    <tr>\n",
       "      <th>2019-01-03</th>\n",
       "      <td>284.004791</td>\n",
       "      <td>NaN</td>\n",
       "      <td>NaN</td>\n",
       "      <td>NaN</td>\n",
       "    </tr>\n",
       "    <tr>\n",
       "      <th>2019-01-04</th>\n",
       "      <td>290.395111</td>\n",
       "      <td>NaN</td>\n",
       "      <td>NaN</td>\n",
       "      <td>NaN</td>\n",
       "    </tr>\n",
       "    <tr>\n",
       "      <th>2019-01-07</th>\n",
       "      <td>289.078033</td>\n",
       "      <td>NaN</td>\n",
       "      <td>NaN</td>\n",
       "      <td>NaN</td>\n",
       "    </tr>\n",
       "    <tr>\n",
       "      <th>...</th>\n",
       "      <td>...</td>\n",
       "      <td>...</td>\n",
       "      <td>...</td>\n",
       "      <td>...</td>\n",
       "    </tr>\n",
       "    <tr>\n",
       "      <th>2022-12-26</th>\n",
       "      <td>597.099976</td>\n",
       "      <td>521.707131</td>\n",
       "      <td>75.392845</td>\n",
       "      <td>71.108822</td>\n",
       "    </tr>\n",
       "    <tr>\n",
       "      <th>2022-12-27</th>\n",
       "      <td>601.900024</td>\n",
       "      <td>522.548960</td>\n",
       "      <td>79.351065</td>\n",
       "      <td>71.166790</td>\n",
       "    </tr>\n",
       "    <tr>\n",
       "      <th>2022-12-28</th>\n",
       "      <td>601.049988</td>\n",
       "      <td>523.330415</td>\n",
       "      <td>77.719573</td>\n",
       "      <td>66.088737</td>\n",
       "    </tr>\n",
       "    <tr>\n",
       "      <th>2022-12-29</th>\n",
       "      <td>611.799988</td>\n",
       "      <td>524.081925</td>\n",
       "      <td>87.718062</td>\n",
       "      <td>80.998590</td>\n",
       "    </tr>\n",
       "    <tr>\n",
       "      <th>2022-12-30</th>\n",
       "      <td>613.700012</td>\n",
       "      <td>524.834813</td>\n",
       "      <td>88.865199</td>\n",
       "      <td>83.166916</td>\n",
       "    </tr>\n",
       "  </tbody>\n",
       "</table>\n",
       "<p>990 rows × 4 columns</p>\n",
       "</div>"
      ],
      "text/plain": [
       "             Adj Close       200MA   distance      norms\n",
       "Date                                                    \n",
       "2019-01-01  292.297607         NaN        NaN        NaN\n",
       "2019-01-02  286.736511         NaN        NaN        NaN\n",
       "2019-01-03  284.004791         NaN        NaN        NaN\n",
       "2019-01-04  290.395111         NaN        NaN        NaN\n",
       "2019-01-07  289.078033         NaN        NaN        NaN\n",
       "...                ...         ...        ...        ...\n",
       "2022-12-26  597.099976  521.707131  75.392845  71.108822\n",
       "2022-12-27  601.900024  522.548960  79.351065  71.166790\n",
       "2022-12-28  601.049988  523.330415  77.719573  66.088737\n",
       "2022-12-29  611.799988  524.081925  87.718062  80.998590\n",
       "2022-12-30  613.700012  524.834813  88.865199  83.166916\n",
       "\n",
       "[990 rows x 4 columns]"
      ]
     },
     "execution_count": 45,
     "metadata": {},
     "output_type": "execute_result"
    }
   ],
   "source": [
    "data"
   ]
  },
  {
   "cell_type": "code",
   "execution_count": 2,
   "metadata": {},
   "outputs": [
    {
     "name": "stdout",
     "output_type": "stream",
     "text": [
      "1\n",
      "2\n",
      "3\n",
      "4\n",
      "5\n",
      "6\n",
      "7\n",
      "8\n",
      "9\n",
      "10\n",
      "11\n",
      "12\n",
      "13\n",
      "14\n",
      "15\n",
      "16\n",
      "17\n",
      "18\n",
      "19\n",
      "20\n",
      "21\n",
      "22\n",
      "23\n",
      "24\n",
      "25\n",
      "26\n",
      "27\n",
      "28\n",
      "29\n",
      "30\n",
      "31\n",
      "32\n",
      "33\n",
      "34\n",
      "35\n",
      "36\n",
      "37\n",
      "38\n",
      "39\n",
      "40\n",
      "41\n",
      "42\n",
      "43\n",
      "44\n",
      "45\n"
     ]
    }
   ],
   "source": [
    "sl = [0.05, 0.08, 0.1, 0.12, 0.15]\n",
    "prof = np.arange(0.05,0.30, 0.03)\n",
    "i = 0\n",
    "for sl_val, prof_val in itertools.product(sl,prof):\n",
    "    i += 1\n",
    "    print(i)"
   ]
  },
  {
   "cell_type": "code",
   "execution_count": null,
   "metadata": {},
   "outputs": [],
   "source": []
  }
 ],
 "metadata": {
  "kernelspec": {
   "display_name": "Python 3",
   "language": "python",
   "name": "python3"
  },
  "language_info": {
   "codemirror_mode": {
    "name": "ipython",
    "version": 3
   },
   "file_extension": ".py",
   "mimetype": "text/x-python",
   "name": "python",
   "nbconvert_exporter": "python",
   "pygments_lexer": "ipython3",
   "version": "3.11.1"
  },
  "orig_nbformat": 4,
  "vscode": {
   "interpreter": {
    "hash": "236178af6f648e00519e077836b3ac634bd3def9b921796a679cc929c64b686e"
   }
  }
 },
 "nbformat": 4,
 "nbformat_minor": 2
}
